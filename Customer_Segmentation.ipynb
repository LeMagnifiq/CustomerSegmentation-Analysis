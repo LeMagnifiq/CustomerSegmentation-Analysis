{
  "nbformat": 4,
  "nbformat_minor": 0,
  "metadata": {
    "colab": {
      "provenance": [],
      "authorship_tag": "ABX9TyPyKNx1fUiWMhqfjewR2zSH",
      "include_colab_link": true
    },
    "kernelspec": {
      "name": "python3",
      "display_name": "Python 3"
    },
    "language_info": {
      "name": "python"
    }
  },
  "cells": [
    {
      "cell_type": "markdown",
      "metadata": {
        "id": "view-in-github",
        "colab_type": "text"
      },
      "source": [
        "<a href=\"https://colab.research.google.com/github/LeMagnifiq/CustomerSegmentation-Analysis/blob/main/Customer_Segmentation.ipynb\" target=\"_parent\"><img src=\"https://colab.research.google.com/assets/colab-badge.svg\" alt=\"Open In Colab\"/></a>"
      ]
    },
    {
      "cell_type": "markdown",
      "source": [
        "##Libraries"
      ],
      "metadata": {
        "id": "kZCA2ZJ-FGAj"
      }
    },
    {
      "cell_type": "code",
      "execution_count": 1,
      "metadata": {
        "id": "je0j7pFBFAPy"
      },
      "outputs": [],
      "source": [
        "import pandas as pd\n",
        "import numpy as np\n",
        "import matplotlib.pyplot as plt\n",
        "from datetime import datetime\n",
        "import seaborn as sns\n",
        "from sklearn.cluster import KMeans\n",
        "from sklearn.preprocessing import StandardScaler\n",
        "from sklearn.decomposition import PCA"
      ]
    },
    {
      "cell_type": "markdown",
      "source": [
        "## Dataset"
      ],
      "metadata": {
        "id": "uQK3Iq_uFWjX"
      }
    },
    {
      "cell_type": "code",
      "source": [
        "url = \"http://archive.ics.uci.edu/ml/machine-learning-databases/00352/Online%20Retail.xlsx\"\n",
        "df = pd.read_excel(url)"
      ],
      "metadata": {
        "id": "J-lPx0TiFVcH"
      },
      "execution_count": 2,
      "outputs": []
    },
    {
      "cell_type": "markdown",
      "source": [
        "## Data Cleaning and Preparation"
      ],
      "metadata": {
        "id": "F4m4wN82Ftrj"
      }
    },
    {
      "cell_type": "code",
      "source": [
        "#Check for missing value\n",
        "print(df.isnull().sum())\n"
      ],
      "metadata": {
        "colab": {
          "base_uri": "https://localhost:8080/"
        },
        "id": "7wRl4OKNrd6X",
        "outputId": "db0a3ab9-33f1-4fb8-9f86-f79242c99168"
      },
      "execution_count": 3,
      "outputs": [
        {
          "output_type": "stream",
          "name": "stdout",
          "text": [
            "InvoiceNo           0\n",
            "StockCode           0\n",
            "Description      1454\n",
            "Quantity            0\n",
            "InvoiceDate         0\n",
            "UnitPrice           0\n",
            "CustomerID     135080\n",
            "Country             0\n",
            "dtype: int64\n"
          ]
        }
      ]
    },
    {
      "cell_type": "code",
      "source": [
        "# Fill missing descriptions with 'Unknown'\n",
        "df['Description'].fillna('Unknown', inplace=True)\n",
        "\n",
        "# Drop rows with missing CustomerID\n",
        "df.dropna(subset=['CustomerID'], inplace=True)\n",
        "\n",
        "# Confirming all missing values are handled\n",
        "print(df.isnull().sum())\n"
      ],
      "metadata": {
        "colab": {
          "base_uri": "https://localhost:8080/"
        },
        "id": "2gsbdyyssWEY",
        "outputId": "41ba801a-f649-4d28-8ae0-0280a9dd04b0"
      },
      "execution_count": 4,
      "outputs": [
        {
          "output_type": "stream",
          "name": "stdout",
          "text": [
            "InvoiceNo      0\n",
            "StockCode      0\n",
            "Description    0\n",
            "Quantity       0\n",
            "InvoiceDate    0\n",
            "UnitPrice      0\n",
            "CustomerID     0\n",
            "Country        0\n",
            "dtype: int64\n"
          ]
        }
      ]
    },
    {
      "cell_type": "code",
      "source": [
        "print(\"Number of duplicates: \", df.duplicated().sum())\n",
        "\n",
        "# Drop duplicates\n",
        "df = df.drop_duplicates()\n",
        "\n",
        "print(\"Number of duplicates after removal: \", df.duplicated().sum())\n"
      ],
      "metadata": {
        "colab": {
          "base_uri": "https://localhost:8080/"
        },
        "id": "_OeAAY-SsljK",
        "outputId": "a114293c-b240-4f6a-df68-8ff87ded3dc1"
      },
      "execution_count": 5,
      "outputs": [
        {
          "output_type": "stream",
          "name": "stdout",
          "text": [
            "Number of duplicates:  5225\n",
            "Number of duplicates after removal:  0\n"
          ]
        }
      ]
    },
    {
      "cell_type": "code",
      "source": [
        "#Quantity less than zero)\n",
        "df = df[df['Quantity']>0]"
      ],
      "metadata": {
        "id": "TsO70JSvFv9R"
      },
      "execution_count": 6,
      "outputs": []
    },
    {
      "cell_type": "markdown",
      "source": [
        "## Exploratory Data Analysis (EDA)"
      ],
      "metadata": {
        "id": "ownNz__bq5Nb"
      }
    },
    {
      "cell_type": "code",
      "source": [
        "# Show the top 5 rows\n",
        "df.head()"
      ],
      "metadata": {
        "colab": {
          "base_uri": "https://localhost:8080/",
          "height": 206
        },
        "id": "gvjhySVHtksy",
        "outputId": "ab8d7d7d-67ec-409f-d7ac-5362465ade30"
      },
      "execution_count": 7,
      "outputs": [
        {
          "output_type": "execute_result",
          "data": {
            "text/plain": [
              "  InvoiceNo StockCode                          Description  Quantity  \\\n",
              "0    536365    85123A   WHITE HANGING HEART T-LIGHT HOLDER         6   \n",
              "1    536365     71053                  WHITE METAL LANTERN         6   \n",
              "2    536365    84406B       CREAM CUPID HEARTS COAT HANGER         8   \n",
              "3    536365    84029G  KNITTED UNION FLAG HOT WATER BOTTLE         6   \n",
              "4    536365    84029E       RED WOOLLY HOTTIE WHITE HEART.         6   \n",
              "\n",
              "          InvoiceDate  UnitPrice  CustomerID         Country  \n",
              "0 2010-12-01 08:26:00       2.55     17850.0  United Kingdom  \n",
              "1 2010-12-01 08:26:00       3.39     17850.0  United Kingdom  \n",
              "2 2010-12-01 08:26:00       2.75     17850.0  United Kingdom  \n",
              "3 2010-12-01 08:26:00       3.39     17850.0  United Kingdom  \n",
              "4 2010-12-01 08:26:00       3.39     17850.0  United Kingdom  "
            ],
            "text/html": [
              "\n",
              "  <div id=\"df-a67858e9-adb7-4f1f-a5b3-c5ed6bfe1b3b\">\n",
              "    <div class=\"colab-df-container\">\n",
              "      <div>\n",
              "<style scoped>\n",
              "    .dataframe tbody tr th:only-of-type {\n",
              "        vertical-align: middle;\n",
              "    }\n",
              "\n",
              "    .dataframe tbody tr th {\n",
              "        vertical-align: top;\n",
              "    }\n",
              "\n",
              "    .dataframe thead th {\n",
              "        text-align: right;\n",
              "    }\n",
              "</style>\n",
              "<table border=\"1\" class=\"dataframe\">\n",
              "  <thead>\n",
              "    <tr style=\"text-align: right;\">\n",
              "      <th></th>\n",
              "      <th>InvoiceNo</th>\n",
              "      <th>StockCode</th>\n",
              "      <th>Description</th>\n",
              "      <th>Quantity</th>\n",
              "      <th>InvoiceDate</th>\n",
              "      <th>UnitPrice</th>\n",
              "      <th>CustomerID</th>\n",
              "      <th>Country</th>\n",
              "    </tr>\n",
              "  </thead>\n",
              "  <tbody>\n",
              "    <tr>\n",
              "      <th>0</th>\n",
              "      <td>536365</td>\n",
              "      <td>85123A</td>\n",
              "      <td>WHITE HANGING HEART T-LIGHT HOLDER</td>\n",
              "      <td>6</td>\n",
              "      <td>2010-12-01 08:26:00</td>\n",
              "      <td>2.55</td>\n",
              "      <td>17850.0</td>\n",
              "      <td>United Kingdom</td>\n",
              "    </tr>\n",
              "    <tr>\n",
              "      <th>1</th>\n",
              "      <td>536365</td>\n",
              "      <td>71053</td>\n",
              "      <td>WHITE METAL LANTERN</td>\n",
              "      <td>6</td>\n",
              "      <td>2010-12-01 08:26:00</td>\n",
              "      <td>3.39</td>\n",
              "      <td>17850.0</td>\n",
              "      <td>United Kingdom</td>\n",
              "    </tr>\n",
              "    <tr>\n",
              "      <th>2</th>\n",
              "      <td>536365</td>\n",
              "      <td>84406B</td>\n",
              "      <td>CREAM CUPID HEARTS COAT HANGER</td>\n",
              "      <td>8</td>\n",
              "      <td>2010-12-01 08:26:00</td>\n",
              "      <td>2.75</td>\n",
              "      <td>17850.0</td>\n",
              "      <td>United Kingdom</td>\n",
              "    </tr>\n",
              "    <tr>\n",
              "      <th>3</th>\n",
              "      <td>536365</td>\n",
              "      <td>84029G</td>\n",
              "      <td>KNITTED UNION FLAG HOT WATER BOTTLE</td>\n",
              "      <td>6</td>\n",
              "      <td>2010-12-01 08:26:00</td>\n",
              "      <td>3.39</td>\n",
              "      <td>17850.0</td>\n",
              "      <td>United Kingdom</td>\n",
              "    </tr>\n",
              "    <tr>\n",
              "      <th>4</th>\n",
              "      <td>536365</td>\n",
              "      <td>84029E</td>\n",
              "      <td>RED WOOLLY HOTTIE WHITE HEART.</td>\n",
              "      <td>6</td>\n",
              "      <td>2010-12-01 08:26:00</td>\n",
              "      <td>3.39</td>\n",
              "      <td>17850.0</td>\n",
              "      <td>United Kingdom</td>\n",
              "    </tr>\n",
              "  </tbody>\n",
              "</table>\n",
              "</div>\n",
              "      <button class=\"colab-df-convert\" onclick=\"convertToInteractive('df-a67858e9-adb7-4f1f-a5b3-c5ed6bfe1b3b')\"\n",
              "              title=\"Convert this dataframe to an interactive table.\"\n",
              "              style=\"display:none;\">\n",
              "        \n",
              "  <svg xmlns=\"http://www.w3.org/2000/svg\" height=\"24px\"viewBox=\"0 0 24 24\"\n",
              "       width=\"24px\">\n",
              "    <path d=\"M0 0h24v24H0V0z\" fill=\"none\"/>\n",
              "    <path d=\"M18.56 5.44l.94 2.06.94-2.06 2.06-.94-2.06-.94-.94-2.06-.94 2.06-2.06.94zm-11 1L8.5 8.5l.94-2.06 2.06-.94-2.06-.94L8.5 2.5l-.94 2.06-2.06.94zm10 10l.94 2.06.94-2.06 2.06-.94-2.06-.94-.94-2.06-.94 2.06-2.06.94z\"/><path d=\"M17.41 7.96l-1.37-1.37c-.4-.4-.92-.59-1.43-.59-.52 0-1.04.2-1.43.59L10.3 9.45l-7.72 7.72c-.78.78-.78 2.05 0 2.83L4 21.41c.39.39.9.59 1.41.59.51 0 1.02-.2 1.41-.59l7.78-7.78 2.81-2.81c.8-.78.8-2.07 0-2.86zM5.41 20L4 18.59l7.72-7.72 1.47 1.35L5.41 20z\"/>\n",
              "  </svg>\n",
              "      </button>\n",
              "      \n",
              "  <style>\n",
              "    .colab-df-container {\n",
              "      display:flex;\n",
              "      flex-wrap:wrap;\n",
              "      gap: 12px;\n",
              "    }\n",
              "\n",
              "    .colab-df-convert {\n",
              "      background-color: #E8F0FE;\n",
              "      border: none;\n",
              "      border-radius: 50%;\n",
              "      cursor: pointer;\n",
              "      display: none;\n",
              "      fill: #1967D2;\n",
              "      height: 32px;\n",
              "      padding: 0 0 0 0;\n",
              "      width: 32px;\n",
              "    }\n",
              "\n",
              "    .colab-df-convert:hover {\n",
              "      background-color: #E2EBFA;\n",
              "      box-shadow: 0px 1px 2px rgba(60, 64, 67, 0.3), 0px 1px 3px 1px rgba(60, 64, 67, 0.15);\n",
              "      fill: #174EA6;\n",
              "    }\n",
              "\n",
              "    [theme=dark] .colab-df-convert {\n",
              "      background-color: #3B4455;\n",
              "      fill: #D2E3FC;\n",
              "    }\n",
              "\n",
              "    [theme=dark] .colab-df-convert:hover {\n",
              "      background-color: #434B5C;\n",
              "      box-shadow: 0px 1px 3px 1px rgba(0, 0, 0, 0.15);\n",
              "      filter: drop-shadow(0px 1px 2px rgba(0, 0, 0, 0.3));\n",
              "      fill: #FFFFFF;\n",
              "    }\n",
              "  </style>\n",
              "\n",
              "      <script>\n",
              "        const buttonEl =\n",
              "          document.querySelector('#df-a67858e9-adb7-4f1f-a5b3-c5ed6bfe1b3b button.colab-df-convert');\n",
              "        buttonEl.style.display =\n",
              "          google.colab.kernel.accessAllowed ? 'block' : 'none';\n",
              "\n",
              "        async function convertToInteractive(key) {\n",
              "          const element = document.querySelector('#df-a67858e9-adb7-4f1f-a5b3-c5ed6bfe1b3b');\n",
              "          const dataTable =\n",
              "            await google.colab.kernel.invokeFunction('convertToInteractive',\n",
              "                                                     [key], {});\n",
              "          if (!dataTable) return;\n",
              "\n",
              "          const docLinkHtml = 'Like what you see? Visit the ' +\n",
              "            '<a target=\"_blank\" href=https://colab.research.google.com/notebooks/data_table.ipynb>data table notebook</a>'\n",
              "            + ' to learn more about interactive tables.';\n",
              "          element.innerHTML = '';\n",
              "          dataTable['output_type'] = 'display_data';\n",
              "          await google.colab.output.renderOutput(dataTable, element);\n",
              "          const docLink = document.createElement('div');\n",
              "          docLink.innerHTML = docLinkHtml;\n",
              "          element.appendChild(docLink);\n",
              "        }\n",
              "      </script>\n",
              "    </div>\n",
              "  </div>\n",
              "  "
            ]
          },
          "metadata": {},
          "execution_count": 7
        }
      ]
    },
    {
      "cell_type": "code",
      "source": [
        "df.describe()"
      ],
      "metadata": {
        "colab": {
          "base_uri": "https://localhost:8080/",
          "height": 300
        },
        "id": "695kBL5ttvXh",
        "outputId": "f805f01c-3b9b-415a-98d3-1811d76e6ede"
      },
      "execution_count": 8,
      "outputs": [
        {
          "output_type": "execute_result",
          "data": {
            "text/plain": [
              "            Quantity      UnitPrice     CustomerID\n",
              "count  392732.000000  392732.000000  392732.000000\n",
              "mean       13.153718       3.125596   15287.734822\n",
              "std       181.588420      22.240725    1713.567773\n",
              "min         1.000000       0.000000   12346.000000\n",
              "25%         2.000000       1.250000   13955.000000\n",
              "50%         6.000000       1.950000   15150.000000\n",
              "75%        12.000000       3.750000   16791.000000\n",
              "max     80995.000000    8142.750000   18287.000000"
            ],
            "text/html": [
              "\n",
              "  <div id=\"df-fd5a95a1-491a-4796-bcfa-d4273c53e397\">\n",
              "    <div class=\"colab-df-container\">\n",
              "      <div>\n",
              "<style scoped>\n",
              "    .dataframe tbody tr th:only-of-type {\n",
              "        vertical-align: middle;\n",
              "    }\n",
              "\n",
              "    .dataframe tbody tr th {\n",
              "        vertical-align: top;\n",
              "    }\n",
              "\n",
              "    .dataframe thead th {\n",
              "        text-align: right;\n",
              "    }\n",
              "</style>\n",
              "<table border=\"1\" class=\"dataframe\">\n",
              "  <thead>\n",
              "    <tr style=\"text-align: right;\">\n",
              "      <th></th>\n",
              "      <th>Quantity</th>\n",
              "      <th>UnitPrice</th>\n",
              "      <th>CustomerID</th>\n",
              "    </tr>\n",
              "  </thead>\n",
              "  <tbody>\n",
              "    <tr>\n",
              "      <th>count</th>\n",
              "      <td>392732.000000</td>\n",
              "      <td>392732.000000</td>\n",
              "      <td>392732.000000</td>\n",
              "    </tr>\n",
              "    <tr>\n",
              "      <th>mean</th>\n",
              "      <td>13.153718</td>\n",
              "      <td>3.125596</td>\n",
              "      <td>15287.734822</td>\n",
              "    </tr>\n",
              "    <tr>\n",
              "      <th>std</th>\n",
              "      <td>181.588420</td>\n",
              "      <td>22.240725</td>\n",
              "      <td>1713.567773</td>\n",
              "    </tr>\n",
              "    <tr>\n",
              "      <th>min</th>\n",
              "      <td>1.000000</td>\n",
              "      <td>0.000000</td>\n",
              "      <td>12346.000000</td>\n",
              "    </tr>\n",
              "    <tr>\n",
              "      <th>25%</th>\n",
              "      <td>2.000000</td>\n",
              "      <td>1.250000</td>\n",
              "      <td>13955.000000</td>\n",
              "    </tr>\n",
              "    <tr>\n",
              "      <th>50%</th>\n",
              "      <td>6.000000</td>\n",
              "      <td>1.950000</td>\n",
              "      <td>15150.000000</td>\n",
              "    </tr>\n",
              "    <tr>\n",
              "      <th>75%</th>\n",
              "      <td>12.000000</td>\n",
              "      <td>3.750000</td>\n",
              "      <td>16791.000000</td>\n",
              "    </tr>\n",
              "    <tr>\n",
              "      <th>max</th>\n",
              "      <td>80995.000000</td>\n",
              "      <td>8142.750000</td>\n",
              "      <td>18287.000000</td>\n",
              "    </tr>\n",
              "  </tbody>\n",
              "</table>\n",
              "</div>\n",
              "      <button class=\"colab-df-convert\" onclick=\"convertToInteractive('df-fd5a95a1-491a-4796-bcfa-d4273c53e397')\"\n",
              "              title=\"Convert this dataframe to an interactive table.\"\n",
              "              style=\"display:none;\">\n",
              "        \n",
              "  <svg xmlns=\"http://www.w3.org/2000/svg\" height=\"24px\"viewBox=\"0 0 24 24\"\n",
              "       width=\"24px\">\n",
              "    <path d=\"M0 0h24v24H0V0z\" fill=\"none\"/>\n",
              "    <path d=\"M18.56 5.44l.94 2.06.94-2.06 2.06-.94-2.06-.94-.94-2.06-.94 2.06-2.06.94zm-11 1L8.5 8.5l.94-2.06 2.06-.94-2.06-.94L8.5 2.5l-.94 2.06-2.06.94zm10 10l.94 2.06.94-2.06 2.06-.94-2.06-.94-.94-2.06-.94 2.06-2.06.94z\"/><path d=\"M17.41 7.96l-1.37-1.37c-.4-.4-.92-.59-1.43-.59-.52 0-1.04.2-1.43.59L10.3 9.45l-7.72 7.72c-.78.78-.78 2.05 0 2.83L4 21.41c.39.39.9.59 1.41.59.51 0 1.02-.2 1.41-.59l7.78-7.78 2.81-2.81c.8-.78.8-2.07 0-2.86zM5.41 20L4 18.59l7.72-7.72 1.47 1.35L5.41 20z\"/>\n",
              "  </svg>\n",
              "      </button>\n",
              "      \n",
              "  <style>\n",
              "    .colab-df-container {\n",
              "      display:flex;\n",
              "      flex-wrap:wrap;\n",
              "      gap: 12px;\n",
              "    }\n",
              "\n",
              "    .colab-df-convert {\n",
              "      background-color: #E8F0FE;\n",
              "      border: none;\n",
              "      border-radius: 50%;\n",
              "      cursor: pointer;\n",
              "      display: none;\n",
              "      fill: #1967D2;\n",
              "      height: 32px;\n",
              "      padding: 0 0 0 0;\n",
              "      width: 32px;\n",
              "    }\n",
              "\n",
              "    .colab-df-convert:hover {\n",
              "      background-color: #E2EBFA;\n",
              "      box-shadow: 0px 1px 2px rgba(60, 64, 67, 0.3), 0px 1px 3px 1px rgba(60, 64, 67, 0.15);\n",
              "      fill: #174EA6;\n",
              "    }\n",
              "\n",
              "    [theme=dark] .colab-df-convert {\n",
              "      background-color: #3B4455;\n",
              "      fill: #D2E3FC;\n",
              "    }\n",
              "\n",
              "    [theme=dark] .colab-df-convert:hover {\n",
              "      background-color: #434B5C;\n",
              "      box-shadow: 0px 1px 3px 1px rgba(0, 0, 0, 0.15);\n",
              "      filter: drop-shadow(0px 1px 2px rgba(0, 0, 0, 0.3));\n",
              "      fill: #FFFFFF;\n",
              "    }\n",
              "  </style>\n",
              "\n",
              "      <script>\n",
              "        const buttonEl =\n",
              "          document.querySelector('#df-fd5a95a1-491a-4796-bcfa-d4273c53e397 button.colab-df-convert');\n",
              "        buttonEl.style.display =\n",
              "          google.colab.kernel.accessAllowed ? 'block' : 'none';\n",
              "\n",
              "        async function convertToInteractive(key) {\n",
              "          const element = document.querySelector('#df-fd5a95a1-491a-4796-bcfa-d4273c53e397');\n",
              "          const dataTable =\n",
              "            await google.colab.kernel.invokeFunction('convertToInteractive',\n",
              "                                                     [key], {});\n",
              "          if (!dataTable) return;\n",
              "\n",
              "          const docLinkHtml = 'Like what you see? Visit the ' +\n",
              "            '<a target=\"_blank\" href=https://colab.research.google.com/notebooks/data_table.ipynb>data table notebook</a>'\n",
              "            + ' to learn more about interactive tables.';\n",
              "          element.innerHTML = '';\n",
              "          dataTable['output_type'] = 'display_data';\n",
              "          await google.colab.output.renderOutput(dataTable, element);\n",
              "          const docLink = document.createElement('div');\n",
              "          docLink.innerHTML = docLinkHtml;\n",
              "          element.appendChild(docLink);\n",
              "        }\n",
              "      </script>\n",
              "    </div>\n",
              "  </div>\n",
              "  "
            ]
          },
          "metadata": {},
          "execution_count": 8
        }
      ]
    },
    {
      "cell_type": "markdown",
      "source": [
        "### Data Distribution"
      ],
      "metadata": {
        "id": "Htrnt0FOuWbF"
      }
    },
    {
      "cell_type": "code",
      "source": [
        "# For Quantity\n",
        "plt.figure(figsize=(10,4))\n",
        "sns.histplot(df['Quantity'], bins=50, kde=False)\n",
        "plt.title('Quantity Distribution')\n",
        "plt.show()\n",
        "\n",
        "# For UnitPrice\n",
        "plt.figure(figsize=(10,4))\n",
        "sns.histplot(df['UnitPrice'], bins=50, kde=False)\n",
        "plt.title('Unit Price Distribution')\n",
        "plt.show()"
      ],
      "metadata": {
        "colab": {
          "base_uri": "https://localhost:8080/",
          "height": 803
        },
        "id": "VvNmw3wwuSEF",
        "outputId": "30c91e4c-0bf9-4575-e6b4-f09c57b60925"
      },
      "execution_count": 9,
      "outputs": [
        {
          "output_type": "display_data",
          "data": {
            "text/plain": [
              "<Figure size 1000x400 with 1 Axes>"
            ],
            "image/png": "[encoded data removed]"
          },
          "metadata": {}
        },
        {
          "output_type": "display_data",
          "data": {
            "text/plain": [
              "<Figure size 1000x400 with 1 Axes>"
            ],
            "image/png": "[encoded data removed]"
          },
          "metadata": {}
        }
      ]
    },
    {
      "cell_type": "code",
      "source": [
        "# For Quantity\n",
        "Q1 = df['Quantity'].quantile(0.25)\n",
        "Q3 = df['Quantity'].quantile(0.75)\n",
        "IQR = Q3 - Q1\n",
        "\n",
        "lower_bound = Q1 - 1.5 * IQR\n",
        "upper_bound = Q3 + 1.5 * IQR\n",
        "\n",
        "outliers_quantity = df[(df['Quantity'] < lower_bound) | (df['Quantity'] > upper_bound)]['Quantity'].count()\n",
        "\n",
        "# For UnitPrice\n",
        "Q1 = df['UnitPrice'].quantile(0.25)\n",
        "Q3 = df['UnitPrice'].quantile(0.75)\n",
        "IQR = Q3 - Q1\n",
        "\n",
        "lower_bound = Q1 - 1.5 * IQR\n",
        "upper_bound = Q3 + 1.5 * IQR\n",
        "\n",
        "outliers_unitprice = df[(df['UnitPrice'] < lower_bound) | (df['UnitPrice'] > upper_bound)]['UnitPrice'].count()\n",
        "\n",
        "print(\"Quantity outliers: \", outliers_quantity)\n",
        "print(\"UnitPrice outliers: \", outliers_unitprice)\n"
      ],
      "metadata": {
        "colab": {
          "base_uri": "https://localhost:8080/"
        },
        "id": "G-YDExuyvBxL",
        "outputId": "a1630a26-6911-40f6-d98b-9c93840f00d0"
      },
      "execution_count": 10,
      "outputs": [
        {
          "output_type": "stream",
          "name": "stdout",
          "text": [
            "Quantity outliers:  25625\n",
            "UnitPrice outliers:  34112\n"
          ]
        }
      ]
    },
    {
      "cell_type": "code",
      "source": [
        "correlation = df[['Quantity', 'UnitPrice']].corr()\n",
        "print(correlation)\n"
      ],
      "metadata": {
        "colab": {
          "base_uri": "https://localhost:8080/"
        },
        "id": "mtG6u2GwvI3V",
        "outputId": "4815055d-49f6-442c-c272-5679cbcc8169"
      },
      "execution_count": 11,
      "outputs": [
        {
          "output_type": "stream",
          "name": "stdout",
          "text": [
            "           Quantity  UnitPrice\n",
            "Quantity   1.000000  -0.004577\n",
            "UnitPrice -0.004577   1.000000\n"
          ]
        }
      ]
    },
    {
      "cell_type": "code",
      "source": [
        "# Extract month-year from InvoiceDate\n",
        "df['InvoiceMonthYear'] = df['InvoiceDate'].dt.to_period('M')\n",
        "\n",
        "# Quantity over time\n",
        "quantity_over_time = df.groupby('InvoiceMonthYear')['Quantity'].sum()\n",
        "print(quantity_over_time.describe())\n",
        "\n",
        "# UnitPrice over time\n",
        "unitprice_over_time = df.groupby('InvoiceMonthYear')['UnitPrice'].mean()\n",
        "print(unitprice_over_time.describe())\n"
      ],
      "metadata": {
        "colab": {
          "base_uri": "https://localhost:8080/"
        },
        "id": "NM12OmbkvN8q",
        "outputId": "92fef9d6-dbda-46d1-f0ac-56904a2ea1db"
      },
      "execution_count": 12,
      "outputs": [
        {
          "output_type": "stream",
          "name": "stdout",
          "text": [
            "count        13.000000\n",
            "mean     397375.846154\n",
            "std      127230.162251\n",
            "min      265043.000000\n",
            "25%      311063.000000\n",
            "50%      363014.000000\n",
            "75%      398190.000000\n",
            "max      678760.000000\n",
            "Name: Quantity, dtype: float64\n",
            "count    13.000000\n",
            "mean      3.134421\n",
            "std       0.259532\n",
            "min       2.734624\n",
            "25%       2.943614\n",
            "50%       3.142586\n",
            "75%       3.269753\n",
            "max       3.615349\n",
            "Name: UnitPrice, dtype: float64\n"
          ]
        }
      ]
    },
    {
      "cell_type": "markdown",
      "source": [
        "## Key Insights"
      ],
      "metadata": {
        "id": "Bt5OymDJvut4"
      }
    },
    {
      "cell_type": "markdown",
      "source": [
        "Popular Products"
      ],
      "metadata": {
        "id": "Yj_E5hgXv7ru"
      }
    },
    {
      "cell_type": "code",
      "source": [
        "popular_products = df.groupby('Description')['Quantity'].sum().sort_values(ascending=False)\n",
        "print(popular_products.head(10))"
      ],
      "metadata": {
        "colab": {
          "base_uri": "https://localhost:8080/"
        },
        "id": "b2dG-RKpv1l4",
        "outputId": "574fcaf4-b4d9-4bff-a2e3-3287c7e67140"
      },
      "execution_count": 13,
      "outputs": [
        {
          "output_type": "stream",
          "name": "stdout",
          "text": [
            "Description\n",
            "PAPER CRAFT , LITTLE BIRDIE           80995\n",
            "MEDIUM CERAMIC TOP STORAGE JAR        77916\n",
            "WORLD WAR 2 GLIDERS ASSTD DESIGNS     54319\n",
            "JUMBO BAG RED RETROSPOT               46078\n",
            "WHITE HANGING HEART T-LIGHT HOLDER    36706\n",
            "ASSORTED COLOUR BIRD ORNAMENT         35263\n",
            "PACK OF 72 RETROSPOT CAKE CASES       33670\n",
            "POPCORN HOLDER                        30919\n",
            "RABBIT NIGHT LIGHT                    27153\n",
            "MINI PAINT SET VINTAGE                26076\n",
            "Name: Quantity, dtype: int64\n"
          ]
        }
      ]
    },
    {
      "cell_type": "code",
      "source": [
        "# Select the top 10\n",
        "top_10_products = popular_products[:10]\n",
        "\n",
        "# Plot\n",
        "plt.figure(figsize=(10,5))\n",
        "sns.barplot(y=top_10_products.index, x=top_10_products.values, palette='viridis')\n",
        "plt.title('Top 10 Most Popular Products')\n",
        "plt.xlabel('Total Quantity Sold')\n",
        "plt.ylabel('Product')\n",
        "plt.show()\n"
      ],
      "metadata": {
        "colab": {
          "base_uri": "https://localhost:8080/",
          "height": 487
        },
        "id": "JWGK0QdSx9oc",
        "outputId": "23aee0a5-5078-4399-a334-835fd9c39b6e"
      },
      "execution_count": 14,
      "outputs": [
        {
          "output_type": "display_data",
          "data": {
            "text/plain": [
              "<Figure size 1000x500 with 1 Axes>"
            ],
            "image/png": "[encoded data removed]"
          },
          "metadata": {}
        }
      ]
    },
    {
      "cell_type": "markdown",
      "source": [
        "Most Valuable Customers"
      ],
      "metadata": {
        "id": "6qd9ZA9mwHOT"
      }
    },
    {
      "cell_type": "code",
      "source": [
        "df['TotalSpent'] = df['UnitPrice'] * df['Quantity']\n",
        "top_customers = df.groupby('CustomerID')['TotalSpent'].sum().sort_values(ascending=False)\n",
        "print(top_customers.head(10))\n"
      ],
      "metadata": {
        "colab": {
          "base_uri": "https://localhost:8080/"
        },
        "id": "Ctblu0PdyXTe",
        "outputId": "193db3d9-41a8-4963-91ba-cb0998b66207"
      },
      "execution_count": 15,
      "outputs": [
        {
          "output_type": "stream",
          "name": "stdout",
          "text": [
            "CustomerID\n",
            "14646.0    280206.02\n",
            "18102.0    259657.30\n",
            "17450.0    194390.79\n",
            "16446.0    168472.50\n",
            "14911.0    143711.17\n",
            "12415.0    124914.53\n",
            "14156.0    117210.08\n",
            "17511.0     91062.38\n",
            "16029.0     80850.84\n",
            "12346.0     77183.60\n",
            "Name: TotalSpent, dtype: float64\n"
          ]
        }
      ]
    },
    {
      "cell_type": "code",
      "source": [
        "#Reset index and\n",
        "top_10_customers = top_customers.reset_index()[:10]\n",
        "\n",
        "#Select the top 10\n",
        "top_10_customers = top_customers.reset_index()[:10]\n",
        "\n",
        "# Plot\n",
        "plt.figure(figsize=(10,6))\n",
        "sns.barplot(x=top_10_customers['TotalSpent'], y=top_10_customers['CustomerID'].astype(str), palette='viridis')\n",
        "plt.title('Top 10 Customers by Spending')\n",
        "plt.xlabel('Total Spending')\n",
        "plt.ylabel('Customer ID')\n",
        "plt.show()"
      ],
      "metadata": {
        "colab": {
          "base_uri": "https://localhost:8080/",
          "height": 564
        },
        "id": "Tysi0cQYzl4c",
        "outputId": "1522bd49-9f28-4718-ced3-f51acbe50adc"
      },
      "execution_count": 16,
      "outputs": [
        {
          "output_type": "display_data",
          "data": {
            "text/plain": [
              "<Figure size 1000x600 with 1 Axes>"
            ],
            "image/png": "[encoded data removed]"
          },
          "metadata": {}
        }
      ]
    },
    {
      "cell_type": "markdown",
      "source": [
        "Order Patterns Over Time\n",
        "\n"
      ],
      "metadata": {
        "id": "sFl164bewWb-"
      }
    },
    {
      "cell_type": "code",
      "source": [
        "df['Month'] = df['InvoiceDate'].dt.month\n",
        "monthly_orders = df.groupby('Month')['InvoiceNo'].nunique()\n",
        "monthly_orders.plot(kind='bar', title='Number of Orders Over Time')"
      ],
      "metadata": {
        "colab": {
          "base_uri": "https://localhost:8080/",
          "height": 493
        },
        "id": "uLSRg8NgwUxE",
        "outputId": "dcff898a-5f06-4b2a-b3e0-55ef5617b985"
      },
      "execution_count": 17,
      "outputs": [
        {
          "output_type": "execute_result",
          "data": {
            "text/plain": [
              "<Axes: title={'center': 'Number of Orders Over Time'}, xlabel='Month'>"
            ]
          },
          "metadata": {},
          "execution_count": 17
        },
        {
          "output_type": "display_data",
          "data": {
            "text/plain": [
              "<Figure size 640x480 with 1 Axes>"
            ],
            "image/png": "[encoded data removed]"
          },
          "metadata": {}
        }
      ]
    },
    {
      "cell_type": "markdown",
      "source": [
        "Customer Geographic Distribution"
      ],
      "metadata": {
        "id": "oEl_ep8iwpVp"
      }
    },
    {
      "cell_type": "code",
      "source": [
        "customer_countries = df.groupby('Country')['CustomerID'].nunique()\n",
        "customer_countries.plot(kind='bar', title='Number of Customers by Country')"
      ],
      "metadata": {
        "colab": {
          "base_uri": "https://localhost:8080/",
          "height": 627
        },
        "id": "12ZAjHdWwqY9",
        "outputId": "62db9be5-ba8e-4b81-c0d8-696a84cf2cec"
      },
      "execution_count": 18,
      "outputs": [
        {
          "output_type": "execute_result",
          "data": {
            "text/plain": [
              "<Axes: title={'center': 'Number of Customers by Country'}, xlabel='Country'>"
            ]
          },
          "metadata": {},
          "execution_count": 18
        },
        {
          "output_type": "display_data",
          "data": {
            "text/plain": [
              "<Figure size 640x480 with 1 Axes>"
            ],
            "image/png": "[encoded data removed]"
          },
          "metadata": {}
        }
      ]
    },
    {
      "cell_type": "markdown",
      "source": [
        "Spending Patterns"
      ],
      "metadata": {
        "id": "q4MX_XI6wvXr"
      }
    },
    {
      "cell_type": "code",
      "source": [
        "monthly_revenue = df.groupby('Month')['UnitPrice'].sum()\n",
        "monthly_revenue.plot(kind='bar', title='Revenue Over Time')"
      ],
      "metadata": {
        "colab": {
          "base_uri": "https://localhost:8080/",
          "height": 493
        },
        "id": "dsT1i3nCw10y",
        "outputId": "a0ebbb00-81c5-4bdf-f474-b15fc9223299"
      },
      "execution_count": 19,
      "outputs": [
        {
          "output_type": "execute_result",
          "data": {
            "text/plain": [
              "<Axes: title={'center': 'Revenue Over Time'}, xlabel='Month'>"
            ]
          },
          "metadata": {},
          "execution_count": 19
        },
        {
          "output_type": "display_data",
          "data": {
            "text/plain": [
              "<Figure size 640x480 with 1 Axes>"
            ],
            "image/png": "[encoded data removed]"
          },
          "metadata": {}
        }
      ]
    },
    {
      "cell_type": "markdown",
      "source": [
        "Purchase Patterns"
      ],
      "metadata": {
        "id": "eRS2Vhp-w8IX"
      }
    },
    {
      "cell_type": "code",
      "source": [
        "from mlxtend.frequent_patterns import apriori\n",
        "from mlxtend.frequent_patterns import association_rules\n",
        "\n",
        "# Prepare the data\n",
        "basket = (df[df['Country'] ==\"United Kingdom\"]\n",
        "          .groupby(['InvoiceNo', 'Description'])['Quantity']\n",
        "          .sum().unstack().reset_index().fillna(0)\n",
        "          .set_index('InvoiceNo'))\n",
        "\n",
        "# Convert the units to 1 hot encoded values\n",
        "def encode_units(x):\n",
        "    if x <= 0:\n",
        "        return 0\n",
        "    if x >= 1:\n",
        "        return 1\n",
        "\n",
        "basket_sets = basket.applymap(encode_units)\n",
        "\n",
        "# Compute frequent items using the Apriori algorithm\n",
        "frequent_itemsets = apriori(basket_sets, min_support=0.02, use_colnames=True)\n",
        "\n",
        "# Compute all association rules for frequent_itemsets\n",
        "rules = association_rules(frequent_itemsets, metric=\"lift\", min_threshold=1)\n",
        "\n",
        "# Print rules\n",
        "print(rules)"
      ],
      "metadata": {
        "colab": {
          "base_uri": "https://localhost:8080/"
        },
        "id": "KOVAJdX9xAPU",
        "outputId": "1524eb52-0559-4758-84d5-5eb1ec7dfc68"
      },
      "execution_count": 20,
      "outputs": [
        {
          "output_type": "stream",
          "name": "stdout",
          "text": [
            "                                          antecedents  \\\n",
            "0                        (ALARM CLOCK BAKELIKE GREEN)   \n",
            "1                         (ALARM CLOCK BAKELIKE RED )   \n",
            "2                 (GARDENERS KNEELING PAD KEEP CALM )   \n",
            "3                (GARDENERS KNEELING PAD CUP OF TEA )   \n",
            "4                    (PINK REGENCY TEACUP AND SAUCER)   \n",
            "..                                                ...   \n",
            "71  (PINK REGENCY TEACUP AND SAUCER, ROSES REGENCY...   \n",
            "72  (ROSES REGENCY TEACUP AND SAUCER , GREEN REGEN...   \n",
            "73                   (PINK REGENCY TEACUP AND SAUCER)   \n",
            "74                  (GREEN REGENCY TEACUP AND SAUCER)   \n",
            "75                 (ROSES REGENCY TEACUP AND SAUCER )   \n",
            "\n",
            "                                          consequents  antecedent support  \\\n",
            "0                         (ALARM CLOCK BAKELIKE RED )            0.041444   \n",
            "1                        (ALARM CLOCK BAKELIKE GREEN)            0.045528   \n",
            "2                (GARDENERS KNEELING PAD CUP OF TEA )            0.044567   \n",
            "3                 (GARDENERS KNEELING PAD KEEP CALM )            0.037660   \n",
            "4                   (GREEN REGENCY TEACUP AND SAUCER)            0.029611   \n",
            "..                                                ...                 ...   \n",
            "71                  (GREEN REGENCY TEACUP AND SAUCER)            0.023004   \n",
            "72                   (PINK REGENCY TEACUP AND SAUCER)            0.028590   \n",
            "73  (ROSES REGENCY TEACUP AND SAUCER , GREEN REGEN...            0.029611   \n",
            "74  (PINK REGENCY TEACUP AND SAUCER, ROSES REGENCY...            0.036759   \n",
            "75  (PINK REGENCY TEACUP AND SAUCER, GREEN REGENCY...            0.040723   \n",
            "\n",
            "    consequent support   support  confidence       lift  leverage  conviction  \n",
            "0             0.045528  0.027269    0.657971  14.451925  0.025382    2.790617  \n",
            "1             0.041444  0.027269    0.598945  14.451925  0.025382    2.390084  \n",
            "2             0.037660  0.027509    0.617251  16.390122  0.025831    2.514283  \n",
            "3             0.044567  0.027509    0.730463  16.390122  0.025831    3.544712  \n",
            "4             0.036759  0.024266    0.819473  22.293137  0.023177    5.335706  \n",
            "..                 ...       ...         ...        ...       ...         ...  \n",
            "71            0.036759  0.020482    0.890339  24.221015  0.019636    8.783841  \n",
            "72            0.029611  0.020482    0.716387  24.192941  0.019635    3.421518  \n",
            "73            0.028590  0.020482    0.691684  24.192941  0.019635    3.150691  \n",
            "74            0.023004  0.020482    0.557190  24.221015  0.019636    2.206352  \n",
            "75            0.024266  0.020482    0.502950  20.726763  0.019494    1.963050  \n",
            "\n",
            "[76 rows x 9 columns]\n"
          ]
        }
      ]
    },
    {
      "cell_type": "markdown",
      "source": [
        "## Customer Segmentation"
      ],
      "metadata": {
        "id": "cK5BiacpTwtu"
      }
    },
    {
      "cell_type": "markdown",
      "source": [
        "### Feature Engineering"
      ],
      "metadata": {
        "id": "CNAv_TfP2GtH"
      }
    },
    {
      "cell_type": "code",
      "source": [
        "import datetime as dt\n",
        "\n",
        "snapshot_date = df['InvoiceDate'].max() + dt.timedelta(days=1) #latest date in the data plus one day\n",
        "df_RFM = df.groupby('CustomerID').agg({\n",
        "    'InvoiceDate': lambda x: (snapshot_date - x.max()).days, #Recency\n",
        "    'InvoiceNo': 'nunique', #Frequency\n",
        "    'TotalSpent': 'sum' #MonetaryValue\n",
        "})\n",
        "\n",
        "# Rename columns for easier interpretation\n",
        "df_RFM.rename(columns = {\n",
        "    'InvoiceDate': 'Recency',\n",
        "    'InvoiceNo': 'Frequency',\n",
        "    'TotalSpent': 'MonetaryValue'\n",
        "}, inplace=True)\n",
        "\n",
        "# Print top 5 rows\n",
        "print(df_RFM.head())\n",
        "\n"
      ],
      "metadata": {
        "colab": {
          "base_uri": "https://localhost:8080/"
        },
        "id": "sc1M-zFmUhEq",
        "outputId": "16fdf194-689d-4885-89e4-9aa472807dc6"
      },
      "execution_count": 21,
      "outputs": [
        {
          "output_type": "stream",
          "name": "stdout",
          "text": [
            "            Recency  Frequency  MonetaryValue\n",
            "CustomerID                                   \n",
            "12346.0         326          1       77183.60\n",
            "12347.0           2          7        4310.00\n",
            "12348.0          75          4        1797.24\n",
            "12349.0          19          1        1757.55\n",
            "12350.0         310          1         334.40\n"
          ]
        }
      ]
    },
    {
      "cell_type": "markdown",
      "source": [
        "## Feature Scaling"
      ],
      "metadata": {
        "id": "HGJcncDhV0Q7"
      }
    },
    {
      "cell_type": "code",
      "source": [
        "from sklearn.preprocessing import StandardScaler\n",
        "\n",
        "scaler = StandardScaler()\n",
        "rfm_scaled = scaler.fit_transform(df_RFM)\n",
        "rfm_scaled = pd.DataFrame(rfm_scaled, index=df_RFM.index, columns=df_RFM.columns)\n"
      ],
      "metadata": {
        "id": "t0DAnnEbTyrx"
      },
      "execution_count": 22,
      "outputs": []
    },
    {
      "cell_type": "markdown",
      "source": [
        "## K-Means Clustering"
      ],
      "metadata": {
        "id": "hxUzXo8TXhkp"
      }
    },
    {
      "cell_type": "code",
      "source": [
        "from sklearn.cluster import KMeans\n",
        "\n",
        "wcss = []\n",
        "for i in range(1, 11):\n",
        "    kmeans = KMeans(n_clusters=i, init='k-means++', max_iter=300, n_init=10, random_state=0)\n",
        "    kmeans.fit(rfm_scaled)\n",
        "    wcss.append(kmeans.inertia_)\n",
        "\n",
        "# Plot the WCSS values\n",
        "plt.plot(range(1, 11), wcss)\n",
        "plt.title('Elbow Method')\n",
        "plt.xlabel('Number of clusters')\n",
        "plt.ylabel('WCSS')\n",
        "plt.show()\n"
      ],
      "metadata": {
        "colab": {
          "base_uri": "https://localhost:8080/",
          "height": 472
        },
        "id": "VY1goUg0XlwK",
        "outputId": "24612f4f-e283-44a3-f7ee-afc28c821987"
      },
      "execution_count": 23,
      "outputs": [
        {
          "output_type": "display_data",
          "data": {
            "text/plain": [
              "<Figure size 640x480 with 1 Axes>"
            ],
            "image/png": "[encoded data removed]"
          },
          "metadata": {}
        }
      ]
    },
    {
      "cell_type": "code",
      "source": [
        "n_clusters = 2\n",
        "kmeans = KMeans(n_clusters=n_clusters, init='k-means++', max_iter=300, n_init=10, random_state=0)\n",
        "clusters = kmeans.fit_predict(rfm_scaled)\n",
        "\n",
        "# Assigning the clusters to our original pre-scaled dataframe\n",
        "df_RFM['Cluster'] = clusters\n"
      ],
      "metadata": {
        "id": "3ENVGCjCYKkw"
      },
      "execution_count": 24,
      "outputs": []
    },
    {
      "cell_type": "markdown",
      "source": [
        "## Cluster Analysis"
      ],
      "metadata": {
        "id": "WTpiMMkbabpj"
      }
    },
    {
      "cell_type": "code",
      "source": [
        "cluster_analysis = df_RFM.groupby('Cluster').agg({\n",
        "    'Recency': 'mean',\n",
        "    'Frequency': 'mean',\n",
        "    'MonetaryValue': ['mean', 'count']}).round(0)\n",
        "\n",
        "print(cluster_analysis)\n"
      ],
      "metadata": {
        "colab": {
          "base_uri": "https://localhost:8080/"
        },
        "id": "45BWaOUyajJY",
        "outputId": "b9bd342b-a17f-4318-ad41-ed82634924e3"
      },
      "execution_count": 25,
      "outputs": [
        {
          "output_type": "stream",
          "name": "stdout",
          "text": [
            "        Recency Frequency MonetaryValue      \n",
            "           mean      mean          mean count\n",
            "Cluster                                      \n",
            "0          93.0       4.0        1543.0  4313\n",
            "1           6.0      66.0       85826.0    26\n"
          ]
        }
      ]
    },
    {
      "cell_type": "markdown",
      "source": [
        "Cluster 0: The customers in this cluster have an average recency of 93 days, which means they haven't purchased for about 3 months on average. They purchase about 4 times on average and have an average monetary value of 1543. This is the largest cluster with 4313 customers.\n",
        "\n",
        "Cluster 1: The customers in this cluster have a very low average recency of 6 days, indicating that they have purchased very recently. They purchase very frequently (66 times on average) and spend a high amount on average (85826). This cluster, however, is much smaller with only 26 customers."
      ],
      "metadata": {
        "id": "fficm4T9a-a0"
      }
    },
    {
      "cell_type": "markdown",
      "source": [
        "## Model Selection and Training"
      ],
      "metadata": {
        "id": "MpchHGfbb_wo"
      }
    },
    {
      "cell_type": "markdown",
      "source": [
        "Random Forests"
      ],
      "metadata": {
        "id": "G9y9iVw-EnpR"
      }
    },
    {
      "cell_type": "code",
      "source": [
        "from sklearn.model_selection import train_test_split\n",
        "\n",
        "# Prepare the features (X) and the target (y)\n",
        "X = df_RFM.drop('Cluster', axis=1)\n",
        "y = df_RFM['Cluster']\n",
        "\n",
        "# Split the data into train and test sets\n",
        "X_train, X_test, y_train, y_test = train_test_split(X, y, test_size=0.2, random_state=42)\n"
      ],
      "metadata": {
        "id": "I78nN0_8cMkn"
      },
      "execution_count": 26,
      "outputs": []
    },
    {
      "cell_type": "code",
      "source": [
        "from sklearn.ensemble import RandomForestClassifier\n",
        "\n",
        "# Initialize the model\n",
        "rf = RandomForestClassifier(n_estimators=100, random_state=42)\n",
        "\n",
        "# Train the model\n",
        "rf.fit(X_train, y_train)\n"
      ],
      "metadata": {
        "colab": {
          "base_uri": "https://localhost:8080/",
          "height": 75
        },
        "id": "6UEF_3O9cQGG",
        "outputId": "9eb170d5-5a75-486d-88a6-53ddd3a98543"
      },
      "execution_count": 27,
      "outputs": [
        {
          "output_type": "execute_result",
          "data": {
            "text/plain": [
              "RandomForestClassifier(random_state=42)"
            ],
            "text/html": [
              "<style>#sk-container-id-1 {color: black;background-color: white;}#sk-container-id-1 pre{padding: 0;}#sk-container-id-1 div.sk-toggleable {background-color: white;}#sk-container-id-1 label.sk-toggleable__label {cursor: pointer;display: block;width: 100%;margin-bottom: 0;padding: 0.3em;box-sizing: border-box;text-align: center;}#sk-container-id-1 label.sk-toggleable__label-arrow:before {content: \"▸\";float: left;margin-right: 0.25em;color: #696969;}#sk-container-id-1 label.sk-toggleable__label-arrow:hover:before {color: black;}#sk-container-id-1 div.sk-estimator:hover label.sk-toggleable__label-arrow:before {color: black;}#sk-container-id-1 div.sk-toggleable__content {max-height: 0;max-width: 0;overflow: hidden;text-align: left;background-color: #f0f8ff;}#sk-container-id-1 div.sk-toggleable__content pre {margin: 0.2em;color: black;border-radius: 0.25em;background-color: #f0f8ff;}#sk-container-id-1 input.sk-toggleable__control:checked~div.sk-toggleable__content {max-height: 200px;max-width: 100%;overflow: auto;}#sk-container-id-1 input.sk-toggleable__control:checked~label.sk-toggleable__label-arrow:before {content: \"▾\";}#sk-container-id-1 div.sk-estimator input.sk-toggleable__control:checked~label.sk-toggleable__label {background-color: #d4ebff;}#sk-container-id-1 div.sk-label input.sk-toggleable__control:checked~label.sk-toggleable__label {background-color: #d4ebff;}#sk-container-id-1 input.sk-hidden--visually {border: 0;clip: rect(1px 1px 1px 1px);clip: rect(1px, 1px, 1px, 1px);height: 1px;margin: -1px;overflow: hidden;padding: 0;position: absolute;width: 1px;}#sk-container-id-1 div.sk-estimator {font-family: monospace;background-color: #f0f8ff;border: 1px dotted black;border-radius: 0.25em;box-sizing: border-box;margin-bottom: 0.5em;}#sk-container-id-1 div.sk-estimator:hover {background-color: #d4ebff;}#sk-container-id-1 div.sk-parallel-item::after {content: \"\";width: 100%;border-bottom: 1px solid gray;flex-grow: 1;}#sk-container-id-1 div.sk-label:hover label.sk-toggleable__label {background-color: #d4ebff;}#sk-container-id-1 div.sk-serial::before {content: \"\";position: absolute;border-left: 1px solid gray;box-sizing: border-box;top: 0;bottom: 0;left: 50%;z-index: 0;}#sk-container-id-1 div.sk-serial {display: flex;flex-direction: column;align-items: center;background-color: white;padding-right: 0.2em;padding-left: 0.2em;position: relative;}#sk-container-id-1 div.sk-item {position: relative;z-index: 1;}#sk-container-id-1 div.sk-parallel {display: flex;align-items: stretch;justify-content: center;background-color: white;position: relative;}#sk-container-id-1 div.sk-item::before, #sk-container-id-1 div.sk-parallel-item::before {content: \"\";position: absolute;border-left: 1px solid gray;box-sizing: border-box;top: 0;bottom: 0;left: 50%;z-index: -1;}#sk-container-id-1 div.sk-parallel-item {display: flex;flex-direction: column;z-index: 1;position: relative;background-color: white;}#sk-container-id-1 div.sk-parallel-item:first-child::after {align-self: flex-end;width: 50%;}#sk-container-id-1 div.sk-parallel-item:last-child::after {align-self: flex-start;width: 50%;}#sk-container-id-1 div.sk-parallel-item:only-child::after {width: 0;}#sk-container-id-1 div.sk-dashed-wrapped {border: 1px dashed gray;margin: 0 0.4em 0.5em 0.4em;box-sizing: border-box;padding-bottom: 0.4em;background-color: white;}#sk-container-id-1 div.sk-label label {font-family: monospace;font-weight: bold;display: inline-block;line-height: 1.2em;}#sk-container-id-1 div.sk-label-container {text-align: center;}#sk-container-id-1 div.sk-container {/* jupyter's `normalize.less` sets `[hidden] { display: none; }` but bootstrap.min.css set `[hidden] { display: none !important; }` so we also need the `!important` here to be able to override the default hidden behavior on the sphinx rendered scikit-learn.org. See: https://github.com/scikit-learn/scikit-learn/issues/21755 */display: inline-block !important;position: relative;}#sk-container-id-1 div.sk-text-repr-fallback {display: none;}</style><div id=\"sk-container-id-1\" class=\"sk-top-container\"><div class=\"sk-text-repr-fallback\"><pre>RandomForestClassifier(random_state=42)</pre><b>In a Jupyter environment, please rerun this cell to show the HTML representation or trust the notebook. <br />On GitHub, the HTML representation is unable to render, please try loading this page with nbviewer.org.</b></div><div class=\"sk-container\" hidden><div class=\"sk-item\"><div class=\"sk-estimator sk-toggleable\"><input class=\"sk-toggleable__control sk-hidden--visually\" id=\"sk-estimator-id-1\" type=\"checkbox\" checked><label for=\"sk-estimator-id-1\" class=\"sk-toggleable__label sk-toggleable__label-arrow\">RandomForestClassifier</label><div class=\"sk-toggleable__content\"><pre>RandomForestClassifier(random_state=42)</pre></div></div></div></div></div>"
            ]
          },
          "metadata": {},
          "execution_count": 27
        }
      ]
    },
    {
      "cell_type": "code",
      "source": [
        "from sklearn.metrics import classification_report\n",
        "\n",
        "# Predict the clusters on the test set\n",
        "y_pred = rf.predict(X_test)\n",
        "\n",
        "# Print the classification report\n",
        "print(classification_report(y_test, y_pred))\n"
      ],
      "metadata": {
        "colab": {
          "base_uri": "https://localhost:8080/"
        },
        "id": "bqKiUSeScUrx",
        "outputId": "a9cde163-b6f8-4d0f-9ca3-0001b52a97fe"
      },
      "execution_count": 28,
      "outputs": [
        {
          "output_type": "stream",
          "name": "stdout",
          "text": [
            "              precision    recall  f1-score   support\n",
            "\n",
            "           0       1.00      1.00      1.00       864\n",
            "           1       1.00      1.00      1.00         4\n",
            "\n",
            "    accuracy                           1.00       868\n",
            "   macro avg       1.00      1.00      1.00       868\n",
            "weighted avg       1.00      1.00      1.00       868\n",
            "\n"
          ]
        }
      ]
    },
    {
      "cell_type": "code",
      "source": [
        "from sklearn.model_selection import cross_val_score\n",
        "\n",
        "# Defining your features and target\n",
        "X = rfm_scaled\n",
        "y = df_RFM['Cluster']\n",
        "\n",
        "# Creating the Random Forest classifier\n",
        "rf_clf = RandomForestClassifier(n_estimators=100, random_state=0)\n",
        "\n",
        "# Cross-validating with 5 folds\n",
        "scores = cross_val_score(rf_clf, X, y, cv=5)\n",
        "\n",
        "# Printing the cross-validation scores and the mean of them\n",
        "print('Cross-Validation Accuracy Scores:', scores)\n",
        "print('Average Cross-Validation Accuracy:', scores.mean())\n"
      ],
      "metadata": {
        "colab": {
          "base_uri": "https://localhost:8080/"
        },
        "id": "vYOWWK9Lc2nh",
        "outputId": "2565b3d1-c814-4713-cc9b-ecd712e7e27f"
      },
      "execution_count": 29,
      "outputs": [
        {
          "output_type": "stream",
          "name": "stdout",
          "text": [
            "Cross-Validation Accuracy Scores: [1.         0.99884793 0.99884793 0.99769585 1.        ]\n",
            "Average Cross-Validation Accuracy: 0.9990783410138249\n"
          ]
        }
      ]
    },
    {
      "cell_type": "code",
      "source": [
        "from sklearn.metrics import classification_report, roc_auc_score, confusion_matrix\n",
        "from sklearn.metrics import accuracy_score, precision_score, recall_score, f1_score\n",
        "\n",
        "\n",
        "accuracy = accuracy_score(y_test, y_pred)\n",
        "precision = precision_score(y_test, y_pred)\n",
        "recall = recall_score(y_test, y_pred)\n",
        "f1 = f1_score(y_test, y_pred)\n",
        "roc_auc = roc_auc_score(y_test, y_pred)\n",
        "cm = confusion_matrix(y_test, y_pred)\n",
        "\n",
        "print(\"Accuracy: \", accuracy)\n",
        "print(\"Precision: \", precision)\n",
        "print(\"Recall: \", recall)\n",
        "print(\"F1 Score: \", f1)\n",
        "print(\"ROC-AUC Score: \", roc_auc)\n",
        "print(\"Confusion Matrix: \\n\", cm)\n"
      ],
      "metadata": {
        "colab": {
          "base_uri": "https://localhost:8080/"
        },
        "id": "dPnw86X96d7v",
        "outputId": "2ebe83c2-f794-480e-d29d-97be4df9939b"
      },
      "execution_count": 30,
      "outputs": [
        {
          "output_type": "stream",
          "name": "stdout",
          "text": [
            "Accuracy:  1.0\n",
            "Precision:  1.0\n",
            "Recall:  1.0\n",
            "F1 Score:  1.0\n",
            "ROC-AUC Score:  1.0\n",
            "Confusion Matrix: \n",
            " [[864   0]\n",
            " [  0   4]]\n"
          ]
        }
      ]
    },
    {
      "cell_type": "markdown",
      "source": [
        "Gradient Boosting"
      ],
      "metadata": {
        "id": "uK0AFGwYEypY"
      }
    },
    {
      "cell_type": "code",
      "source": [
        "from sklearn.ensemble import GradientBoostingClassifier\n",
        "from sklearn.metrics import accuracy_score, precision_score, recall_score, f1_score, roc_auc_score, confusion_matrix\n",
        "\n",
        "# Create a GradientBoostingClassifier object\n",
        "gb = GradientBoostingClassifier(n_estimators=100, learning_rate=0.1, max_depth=1, random_state=42)\n",
        "\n",
        "# Fit the model to your data\n",
        "gb.fit(X_train, y_train)\n",
        "\n",
        "# Predict the classes of the test set\n",
        "y_pred = gb.predict(X_test)\n",
        "\n",
        "# Print accuracy\n",
        "print('Accuracy: ', accuracy_score(y_test, y_pred))\n",
        "\n",
        "# Print precision\n",
        "print('Precision: ', precision_score(y_test, y_pred))\n",
        "\n",
        "# Print recall\n",
        "print('Recall: ', recall_score(y_test, y_pred))\n",
        "\n",
        "# Print F1 Score\n",
        "print('F1 Score: ', f1_score(y_test, y_pred))\n",
        "\n",
        "# Print ROC-AUC Score\n",
        "print('ROC-AUC Score: ', roc_auc_score(y_test, y_pred))\n",
        "\n",
        "# Print confusion matrix\n",
        "print('Confusion Matrix: \\n', confusion_matrix(y_test, y_pred))\n"
      ],
      "metadata": {
        "colab": {
          "base_uri": "https://localhost:8080/"
        },
        "id": "HnJpWCqH77TM",
        "outputId": "156fe0a3-e146-4a9d-a8ea-9c31c6fd0b5e"
      },
      "execution_count": 31,
      "outputs": [
        {
          "output_type": "stream",
          "name": "stdout",
          "text": [
            "Accuracy:  0.9976958525345622\n",
            "Precision:  0.75\n",
            "Recall:  0.75\n",
            "F1 Score:  0.75\n",
            "ROC-AUC Score:  0.8744212962962963\n",
            "Confusion Matrix: \n",
            " [[863   1]\n",
            " [  1   3]]\n"
          ]
        }
      ]
    },
    {
      "cell_type": "markdown",
      "source": [
        "## More Feature Engineering"
      ],
      "metadata": {
        "id": "F72gL3-f8zLZ"
      }
    },
    {
      "cell_type": "code",
      "source": [
        "#New Feature\n",
        "bins = [0, 30, 90, np.inf]\n",
        "labels = ['Active', 'Lapsed', 'Inactive']\n",
        "df_RFM['Recency_Binned'] = pd.cut(df_RFM['Recency'], bins, labels=labels)"
      ],
      "metadata": {
        "id": "6yoaKQGc88AT"
      },
      "execution_count": 32,
      "outputs": []
    },
    {
      "cell_type": "code",
      "source": [
        "from sklearn.preprocessing import LabelEncoder\n",
        "\n",
        "le = LabelEncoder()\n",
        "df_RFM['Recency_Binned_Encoded'] = le.fit_transform(df_RFM['Recency_Binned'])\n"
      ],
      "metadata": {
        "id": "eW8MfVkg9Ame"
      },
      "execution_count": 33,
      "outputs": []
    },
    {
      "cell_type": "code",
      "source": [
        "# Binning Frequency\n",
        "bins = [0, 5, 20, np.inf]\n",
        "labels = ['Rare', 'Occasional', 'Regular']\n",
        "df_RFM['Frequency_Binned'] = pd.cut(df_RFM['Frequency'], bins, labels=labels)\n",
        "\n",
        "# Binning MonetaryValue\n",
        "bins = [0, 1000, 5000, np.inf]\n",
        "labels = ['Low-spending', 'Medium-spending', 'High-spending']\n",
        "df_RFM['MonetaryValue_Binned'] = pd.cut(df_RFM['MonetaryValue'], bins, labels=labels)\n"
      ],
      "metadata": {
        "id": "M4ZCBgIt9UNB"
      },
      "execution_count": 34,
      "outputs": []
    },
    {
      "cell_type": "code",
      "source": [
        "le = LabelEncoder()\n",
        "df_RFM['Frequency_Binned_Encoded'] = le.fit_transform(df_RFM['Frequency_Binned'])\n",
        "df_RFM['MonetaryValue_Binned_Encoded'] = le.fit_transform(df_RFM['MonetaryValue_Binned'])\n"
      ],
      "metadata": {
        "id": "KMhWPdCK9cD8"
      },
      "execution_count": 35,
      "outputs": []
    },
    {
      "cell_type": "code",
      "source": [
        "print(df_RFM)"
      ],
      "metadata": {
        "colab": {
          "base_uri": "https://localhost:8080/"
        },
        "id": "TpkxF0XP95jF",
        "outputId": "ccf3f3cb-26ca-4361-ad1a-85383d533285"
      },
      "execution_count": 36,
      "outputs": [
        {
          "output_type": "stream",
          "name": "stdout",
          "text": [
            "            Recency  Frequency  MonetaryValue  Cluster Recency_Binned  \\\n",
            "CustomerID                                                              \n",
            "12346.0         326          1       77183.60        0       Inactive   \n",
            "12347.0           2          7        4310.00        0         Active   \n",
            "12348.0          75          4        1797.24        0         Lapsed   \n",
            "12349.0          19          1        1757.55        0         Active   \n",
            "12350.0         310          1         334.40        0       Inactive   \n",
            "...             ...        ...            ...      ...            ...   \n",
            "18280.0         278          1         180.60        0       Inactive   \n",
            "18281.0         181          1          80.82        0       Inactive   \n",
            "18282.0           8          2         178.05        0         Active   \n",
            "18283.0           4         16        2045.53        0         Active   \n",
            "18287.0          43          3        1837.28        0         Lapsed   \n",
            "\n",
            "            Recency_Binned_Encoded Frequency_Binned MonetaryValue_Binned  \\\n",
            "CustomerID                                                                 \n",
            "12346.0                          1             Rare        High-spending   \n",
            "12347.0                          0       Occasional      Medium-spending   \n",
            "12348.0                          2             Rare      Medium-spending   \n",
            "12349.0                          0             Rare      Medium-spending   \n",
            "12350.0                          1             Rare         Low-spending   \n",
            "...                            ...              ...                  ...   \n",
            "18280.0                          1             Rare         Low-spending   \n",
            "18281.0                          1             Rare         Low-spending   \n",
            "18282.0                          0             Rare         Low-spending   \n",
            "18283.0                          0       Occasional      Medium-spending   \n",
            "18287.0                          2             Rare      Medium-spending   \n",
            "\n",
            "            Frequency_Binned_Encoded  MonetaryValue_Binned_Encoded  \n",
            "CustomerID                                                          \n",
            "12346.0                            1                             0  \n",
            "12347.0                            0                             2  \n",
            "12348.0                            1                             2  \n",
            "12349.0                            1                             2  \n",
            "12350.0                            1                             1  \n",
            "...                              ...                           ...  \n",
            "18280.0                            1                             1  \n",
            "18281.0                            1                             1  \n",
            "18282.0                            1                             1  \n",
            "18283.0                            0                             2  \n",
            "18287.0                            1                             2  \n",
            "\n",
            "[4339 rows x 10 columns]\n"
          ]
        }
      ]
    },
    {
      "cell_type": "code",
      "source": [
        "# Convert categorical variable into dummy/indicator variables or (binary variables)\n",
        "final_data = pd.get_dummies(df_RFM, drop_first=True)\n",
        "\n",
        "#Split\n",
        "X_train, X_test, y_train, y_test = train_test_split(final_data, y, test_size=0.2, random_state=0)\n"
      ],
      "metadata": {
        "id": "OZ5ty4u3-WMJ"
      },
      "execution_count": 37,
      "outputs": []
    },
    {
      "cell_type": "code",
      "source": [
        "from sklearn.ensemble import GradientBoostingClassifier\n",
        "\n",
        "\n",
        "# Fit the model\n",
        "gb_model = GradientBoostingClassifier(n_estimators=100, learning_rate=1.0, max_depth=1, random_state=0)\n",
        "gb_model.fit(X_train, y_train)\n",
        "\n",
        "# Predict on the test set\n",
        "y_pred = gb_model.predict(X_test)\n",
        "\n",
        "# Evaluate the model\n",
        "print(\"Accuracy: \", accuracy_score(y_test, y_pred))\n",
        "print(\"Precision: \", precision_score(y_test, y_pred))\n",
        "print(\"Recall: \", recall_score(y_test, y_pred))\n",
        "print(\"F1 Score: \", f1_score(y_test, y_pred))\n"
      ],
      "metadata": {
        "colab": {
          "base_uri": "https://localhost:8080/"
        },
        "id": "zoeegWLt-frz",
        "outputId": "990dd788-f438-4f24-cbae-1c23f9fcf517"
      },
      "execution_count": 38,
      "outputs": [
        {
          "output_type": "stream",
          "name": "stdout",
          "text": [
            "Accuracy:  1.0\n",
            "Precision:  1.0\n",
            "Recall:  1.0\n",
            "F1 Score:  1.0\n"
          ]
        }
      ]
    },
    {
      "cell_type": "markdown",
      "source": [
        "SVM"
      ],
      "metadata": {
        "id": "hRXlwUwpFDOD"
      }
    },
    {
      "cell_type": "code",
      "source": [
        "from sklearn import svm\n",
        "from sklearn.model_selection import cross_val_score\n",
        "from sklearn.metrics import classification_report, confusion_matrix\n",
        "\n",
        "# Initialize SVM classifier\n",
        "clf = svm.SVC(kernel='linear')\n",
        "\n",
        "# Fit data\n",
        "clf = clf.fit(X_train, y_train)\n",
        "\n",
        "# Predict the response\n",
        "pred = clf.predict(X_test)\n",
        "\n",
        "# Print classification report\n",
        "print(classification_report(y_test, pred))\n",
        "\n",
        "# Print confusion matrix\n",
        "print(confusion_matrix(y_test, pred))\n"
      ],
      "metadata": {
        "colab": {
          "base_uri": "https://localhost:8080/"
        },
        "id": "2uYNEfkK_M5w",
        "outputId": "560682c1-c57e-4e87-f3ba-df5bee07fdd6"
      },
      "execution_count": 39,
      "outputs": [
        {
          "output_type": "stream",
          "name": "stdout",
          "text": [
            "              precision    recall  f1-score   support\n",
            "\n",
            "           0       1.00      1.00      1.00       860\n",
            "           1       1.00      1.00      1.00         8\n",
            "\n",
            "    accuracy                           1.00       868\n",
            "   macro avg       1.00      1.00      1.00       868\n",
            "weighted avg       1.00      1.00      1.00       868\n",
            "\n",
            "[[860   0]\n",
            " [  0   8]]\n"
          ]
        }
      ]
    },
    {
      "cell_type": "code",
      "source": [
        "from sklearn.svm import SVC\n",
        "from sklearn.model_selection import StratifiedKFold\n",
        "from sklearn.metrics import accuracy_score, f1_score, precision_score, recall_score\n",
        "\n",
        "# Features matrix\n",
        "X = df_RFM[['Recency_Binned_Encoded', 'Frequency_Binned_Encoded', 'MonetaryValue_Binned_Encoded']]\n",
        "\n",
        "# Target vector\n",
        "y = df_RFM['Cluster']\n",
        "\n",
        "# Split the data into training and test sets\n",
        "X_train, X_test, y_train, y_test = train_test_split(X, y, test_size=0.2, random_state=42)\n",
        "\n",
        "# Apply cross-validation\n",
        "svc = SVC(kernel='linear', C=1, random_state=42)\n",
        "strat_k_fold = StratifiedKFold(n_splits=5, shuffle=True, random_state=42)\n",
        "\n",
        "cv_scores = cross_val_score(svc, X_train, y_train, cv=strat_k_fold, scoring='accuracy')\n",
        "\n",
        "\n"
      ],
      "metadata": {
        "id": "tI7zjV92_sVM"
      },
      "execution_count": 40,
      "outputs": []
    },
    {
      "cell_type": "code",
      "source": [
        "from sklearn.metrics import make_scorer, accuracy_score, precision_score, recall_score, f1_score\n",
        "from sklearn.model_selection import cross_val_score\n",
        "\n",
        "# Performance metrics\n",
        "metrics = {'accuracy': make_scorer(accuracy_score),\n",
        "           'precision': make_scorer(precision_score, average='weighted', zero_division=0),\n",
        "           'recall': make_scorer(recall_score, average='weighted', zero_division=0),\n",
        "           'f1': make_scorer(f1_score, average='weighted', zero_division=0)}\n",
        "\n",
        "scores = {}\n",
        "\n",
        "# Applying cross-validation\n",
        "for metric_name, metric in metrics.items():\n",
        "    score = cross_val_score(svc, X, y, cv=strat_k_fold, scoring=metric).mean()\n",
        "    scores[metric_name] = score\n",
        "\n",
        "for metric, score in scores.items():\n",
        "    print(f\"The {metric} score is {score}\")"
      ],
      "metadata": {
        "colab": {
          "base_uri": "https://localhost:8080/"
        },
        "id": "689TlBLG8vBc",
        "outputId": "2de0dba1-dea1-441b-d33c-a61008b60ccd"
      },
      "execution_count": 41,
      "outputs": [
        {
          "output_type": "stream",
          "name": "stdout",
          "text": [
            "The accuracy score is 0.9940078877850951\n",
            "The precision score is 0.9880518927375184\n",
            "The recall score is 0.9940078877850951\n",
            "The f1 score is 0.9910208884411418\n"
          ]
        }
      ]
    },
    {
      "cell_type": "markdown",
      "source": [
        "Random Forests"
      ],
      "metadata": {
        "id": "p3SAU1pnFUsP"
      }
    },
    {
      "cell_type": "code",
      "source": [
        "from sklearn.ensemble import RandomForestClassifier\n",
        "\n",
        "# Assuming df and X, y are defined above and are correct\n",
        "\n",
        "# Create model\n",
        "rf = RandomForestClassifier(n_estimators=100, random_state=42)\n",
        "\n",
        "# Apply cross-validation\n",
        "strat_k_fold = StratifiedKFold(n_splits=5, shuffle=True, random_state=42)\n",
        "\n",
        "accuracy_list = []\n",
        "precision_list = []\n",
        "recall_list = []\n",
        "f1_list = []\n",
        "\n",
        "for train_index, test_index in strat_k_fold.split(X, y):\n",
        "    X_train, X_test = X.iloc[train_index], X.iloc[test_index]\n",
        "    y_train, y_test = y.iloc[train_index], y.iloc[test_index]\n",
        "\n",
        "    # Fit the model on training data\n",
        "    rf.fit(X_train, y_train)\n",
        "\n",
        "    # Make predictions on the test data\n",
        "    y_pred = rf.predict(X_test)\n",
        "\n",
        "    # Calculate metrics and append them to the lists\n",
        "    accuracy_list.append(accuracy_score(y_test, y_pred))\n",
        "    precision_list.append(precision_score(y_test, y_pred, average='weighted', zero_division=1))\n",
        "    recall_list.append(recall_score(y_test, y_pred, average='weighted'))\n",
        "    f1_list.append(f1_score(y_test, y_pred, average='weighted'))\n",
        "\n",
        "# Print out the average scores\n",
        "print(f'The accuracy score is {np.mean(accuracy_list)}')\n",
        "print(f'The precision score is {np.mean(precision_list)}')\n",
        "print(f'The recall score is {np.mean(recall_list)}')\n",
        "print(f'The f1 score is {np.mean(f1_list)}')\n"
      ],
      "metadata": {
        "colab": {
          "base_uri": "https://localhost:8080/"
        },
        "id": "CCFv-odx_DZ3",
        "outputId": "da2fa12d-d1f5-49b6-fdfa-b5c96ff90012"
      },
      "execution_count": 42,
      "outputs": [
        {
          "output_type": "stream",
          "name": "stdout",
          "text": [
            "The accuracy score is 0.9940078877850951\n",
            "The precision score is 0.9940440049524233\n",
            "The recall score is 0.9940078877850951\n",
            "The f1 score is 0.9910208884411418\n"
          ]
        }
      ]
    }
  ]
}